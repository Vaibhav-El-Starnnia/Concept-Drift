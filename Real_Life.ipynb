# STEP 1: Install dependencies (skip if already installed)
# !pip install matplotlib seaborn scipy pandas

# STEP 2: Upload your file (elecNormNew.arff)
# from google.colab import files
# files.upload()

# STEP 3: Live Dashboard Streaming Visualization

import pandas as pd
import matplotlib.pyplot as plt
import seaborn as sns
from scipy.io import arff
from matplotlib.animation import FuncAnimation
from matplotlib import gridspec
from IPython.display import HTML
import matplotlib as mpl
import numpy as np

# Optional: Increase animation size limit
mpl.rcParams['animation.embed_limit'] = 50

# Load ARFF data
data, meta = arff.loadarff('/Users/nikleshvarma/Downloads/elecNormNew.arff')
df = pd.DataFrame(data)
df['class'] = df['class'].str.decode('utf-8')
if 'day' in df.columns:
    df['day'] = df['day'].str.decode('utf-8')

# Stream settings
chunk_size = 300
max_frames = len(df) // chunk_size

# Layout
fig = plt.figure(figsize=(22, 10))
gs = gridspec.GridSpec(2, 3, width_ratios=[1.2, 1, 1], height_ratios=[3, 1])
ax1 = fig.add_subplot(gs[0, 0])  # Class Distribution
ax2 = fig.add_subplot(gs[0, 1])  # NSW Price/Demand
ax3 = fig.add_subplot(gs[0, 2])  # Boxplot by Day
ax4 = fig.add_subplot(gs[1, 1:])  # Correlation Heatmap

# Empty plot lines
line_price, = ax2.plot([], [], label='NSW Price', alpha=0.6)
line_demand, = ax2.plot([], [], label='NSW Demand', alpha=0.6)

# Frame update function
def update(frame):
    start = 0
    end = (frame + 1) * chunk_size
    chunk = df.iloc[start:end].copy()

    # Class distribution
    ax1.cla()
    sns.countplot(x='class', data=chunk, ax=ax1)
    ax1.set_title('Class Distribution (UP vs DOWN)')
    ax1.set_xlabel('Price Change Class')
    ax1.set_ylabel('Frequency')

    # Line chart: NSW price & demand
    ax2.cla()
    if 'nswprice' in chunk.columns and 'nswdemand' in chunk.columns:
        ax2.plot(chunk.index, chunk['nswprice'], label='NSW Price', alpha=0.6)
        ax2.plot(chunk.index, chunk['nswdemand'], label='NSW Demand', alpha=0.6)
        ax2.set_title('NSW Price and Demand Over Time')
        ax2.set_xlabel('Time Index')
        ax2.set_ylabel('Value')
        ax2.legend()
    else:
        ax2.set_title('NSW Price and Demand Data Missing')

    

    # Correlation heatmap
    ax3.cla()
    numeric_cols = chunk.select_dtypes(include=['float64', 'int64']).columns
    if not numeric_cols.empty:
        corr = chunk[numeric_cols].corr()
        sns.heatmap(corr, annot=False, cmap='coolwarm', ax=ax4)
        ax3.set_title('Correlation Heatmap')
    else:
        ax3.set_title('No Numeric Data for Correlation Heatmap')

    fig.suptitle(f"Live Update: Frame {frame+1}/{max_frames} | Rows: {end}", fontsize=16)

# Run animation
ani = FuncAnimation(fig, update, frames=max_frames, interval=1000, repeat=False)

# ✅ Safe rendering in Colab/Jupyter
from IPython.display import display
display(HTML(ani.to_jshtml()))

                    # STEP 1: Install dependencies (skip if already installed)
# !pip install matplotlib seaborn scipy pandas

# STEP 2: Upload your file (elecNormNew.arff)
# from google.colab import files
# files.upload()

# STEP 3: Live Dashboard Streaming Visualization with Drift Annotation

import pandas as pd
import matplotlib.pyplot as plt
import seaborn as sns
from scipy.io import arff
from matplotlib.animation import FuncAnimation
from matplotlib import gridspec
from IPython.display import HTML
import matplotlib as mpl
import numpy as np

# Optional: Increase animation size limit
mpl.rcParams['animation.embed_limit'] = 50

# Load ARFF data
data, meta = arff.loadarff('/Users/nikleshvarma/Downloads/elecNormNew.arff')
df = pd.DataFrame(data)
df['class'] = df['class'].str.decode('utf-8')
if 'day' in df.columns:
    df['day'] = df['day'].str.decode('utf-8')

# Stream settings
chunk_size = 300
max_frames = len(df) // chunk_size

# For drift detection based on 'nswprice' pattern
price_history = []
angle_history = []

# Layout
fig = plt.figure(figsize=(22, 10))
gs = gridspec.GridSpec(2, 3, width_ratios=[1.2, 1, 1], height_ratios=[3, 1])
ax1 = fig.add_subplot(gs[0, 0])  # Class Distribution
ax2 = fig.add_subplot(gs[0, 1])  # NSW Price/Demand
ax3 = fig.add_subplot(gs[0, 2])  # Boxplot by Day
ax4 = fig.add_subplot(gs[1, 1:])  # Correlation Heatmap

drift_label = fig.text(0.5, 0.92, '', ha='center', fontsize=14, color='crimson')

# Frame update function
def classify_drift_type(angle_history):
    if len(angle_history) < 3:
        return ""
    recent = angle_history[-3:]
    if recent[-1] > 0.8 and recent[-2] < 0.2:
        return "Sudden Drift"
    elif 0.3 < recent[-1] < 1.5 and recent[-2] < recent[-1]:
        return "Gradual Drift"
    elif abs(recent[-1] - recent[-2]) < 0.2 and 0.3 < recent[-1] < 1.5:
        return "Incremental Drift"
    elif len(angle_history) > 10 and abs(angle_history[-1] - angle_history[-11]) < 0.2:
        return "Recurring Drift"
    else:
        return ""

# Update logic
def update(frame):
    start = 0
    end = (frame + 1) * chunk_size
    chunk = df.iloc[start:end].copy()

    # Class distribution
    ax1.cla()
    sns.countplot(x='class', data=chunk, ax=ax1)
    ax1.set_title('Class Distribution (UP vs DOWN)')
    ax1.set_xlabel('Price Change Class')
    ax1.set_ylabel('Frequency')

    # Price and demand
    ax2.cla()
    if 'nswprice' in chunk.columns and 'nswdemand' in chunk.columns:
        ax2.plot(chunk.index, chunk['nswprice'], label='NSW Price', alpha=0.6)
        ax2.plot(chunk.index, chunk['nswdemand'], label='NSW Demand', alpha=0.6)
        ax2.set_title('NSW Price and Demand Over Time')
        ax2.set_xlabel('Time Index')
        ax2.set_ylabel('Value')
        ax2.legend()

        # Drift detection on nswprice
        current_vector = chunk['nswprice'].values[-chunk_size:]
        if len(price_history) > 0:
            prev_vector = price_history[-1]
            if len(current_vector) == len(prev_vector):
                norm = lambda v: np.linalg.norm(v) + 1e-8
                cos_sim = np.dot(current_vector, prev_vector) / (norm(current_vector) * norm(prev_vector))
                angle = np.arccos(np.clip(cos_sim, -1, 1)) * 180 / np.pi
                angle_history.append(angle)
                drift_type = classify_drift_type(angle_history)
                if drift_type:
                    drift_label.set_text(f"{drift_type} at Frame {frame+1}")
                else:
                    drift_label.set_text("")
        price_history.append(current_vector)
    else:
        ax2.set_title('NSW Price and Demand Data Missing')
        drift_label.set_text('')

    # Boxplot by day
    ax3.cla()
    if 'day' in chunk.columns:
        sns.boxplot(x='day', y='nswprice', data=chunk, ax=ax3)
        ax3.set_title('NSW Price by Day')
        ax3.set_xlabel('Day')
        ax3.set_ylabel('NSW Price')
        ax3.tick_params(axis='x', rotation=45)

    # Correlation heatmap
    ax4.cla()
    numeric_cols = chunk.select_dtypes(include=['float64', 'int64']).columns
    if not numeric_cols.empty:
        corr = chunk[numeric_cols].corr()
        sns.heatmap(corr, annot=False, cmap='coolwarm', ax=ax4)
        ax4.set_title('Feature Correlation Heatmap')
    else:
        ax4.set_title('No Numeric Data for Correlation Heatmap')

    fig.suptitle(f"Live Update: Frame {frame+1}/{max_frames} | Rows: {end}", fontsize=16)

# Run animation# STEP 1: Install dependencies (if not installed)
# !pip install matplotlib seaborn scipy pandas

import pandas as pd
import matplotlib.pyplot as plt
import seaborn as sns
from scipy.io import arff
from matplotlib.animation import FuncAnimation
from matplotlib import gridspec
from IPython.display import HTML, display
import matplotlib as mpl
import numpy as np

# Optional: Increase animation size limit
mpl.rcParams['animation.embed_limit'] = 50

# === Load ARFF Data ===
data, meta = arff.loadarff('/Users/nikleshvarma/Downloads/elecNormNew.arff')
df = pd.DataFrame(data)
df['class'] = df['class'].str.decode('utf-8')
if 'day' in df.columns:
    df['day'] = df['day'].str.decode('utf-8')

# === Streaming Parameters ===
chunk_size = 300
max_frames = len(df) // chunk_size

# === Drift Detection Setup ===
price_history = []
angle_history = []
drift_log = []

# === Layout Setup ===
fig = plt.figure(figsize=(22, 10))
gs = gridspec.GridSpec(2, 3, width_ratios=[1.2, 1, 1], height_ratios=[3, 1])
ax1 = fig.add_subplot(gs[0, 0])  # Class Distribution
ax2 = fig.add_subplot(gs[0, 1])  # NSW Price/Demand
ax3 = fig.add_subplot(gs[0, 2])  # Boxplot by Day
ax4 = fig.add_subplot(gs[1, 1:])  # Correlation Heatmap

drift_label = fig.text(0.5, 0.92, '', ha='center', fontsize=14, color='crimson')

# === Drift Classifier Function ===
def classify_drift_type(angle_history, frame):
    if len(angle_history) < 3:
        return ""
    recent = angle_history[-3:]

    drift_type = ""
    if recent[-1] > 0.3 and recent[-2] < 0.1:
        drift_type = "Sudden Drift"
    elif 0.1 < recent[-1] < 0.7 and recent[-2] < recent[-1]:
        drift_type = "Gradual Drift"
    elif abs(recent[-1] - recent[-2]) < 0.1 and 0.1 < recent[-1] < 0.7:
        drift_type = "Incremental Drift"
    elif len(angle_history) > 10 and abs(angle_history[-1] - angle_history[-11]) < 0.1:
        drift_type = "Recurring Drift"

    if drift_type:
        drift_log.append((frame + 1, drift_type))  # Log it
    return drift_type

# === Update Function ===
def update(frame):
    start = 0
    end = (frame + 1) * chunk_size
    chunk = df.iloc[start:end].copy()

    # === Plot Class Distribution ===
    ax1.cla()
    sns.countplot(x='class', data=chunk, ax=ax1)
    ax1.set_title('Class Distribution (UP vs DOWN)')
    ax1.set_xlabel('Price Change Class')
    ax1.set_ylabel('Frequency')

    # === NSW Price/Demand ===
    ax2.cla()
    if 'nswprice' in chunk.columns and 'nswdemand' in chunk.columns:
        ax2.plot(chunk.index, chunk['nswprice'], label='NSW Price', alpha=0.6)
        ax2.plot(chunk.index, chunk['nswdemand'], label='NSW Demand', alpha=0.6)
        ax2.set_title('NSW Price and Demand Over Time')
        ax2.set_xlabel('Time Index')
        ax2.set_ylabel('Value')
        ax2.legend()

        # === Drift Detection on NSW Price ===
        current_vector = chunk['nswprice'].values[-chunk_size:]
        if len(price_history) > 0:
            prev_vector = price_history[-1]
            if len(current_vector) == len(prev_vector):
                norm = lambda v: np.linalg.norm(v) + 1e-8
                cos_sim = np.dot(current_vector, prev_vector) / (norm(current_vector) * norm(prev_vector))
                angle = np.arccos(np.clip(cos_sim, -1, 1)) * 180 / np.pi
                angle_history.append(angle)
                drift_type = classify_drift_type(angle_history, frame)
                if drift_type:
                    drift_label.set_text(f"{drift_type} at Frame {frame+1}")
                else:
                    drift_label.set_text("")
        price_history.append(current_vector)
    else:
        ax2.set_title('NSW Price and Demand Data Missing')
        drift_label.set_text('')

    # === Boxplot by Day ===
    ax3.cla()
    if 'day' in chunk.columns:
        sns.boxplot(x='day', y='nswprice', data=chunk, ax=ax3)
        ax3.set_title('NSW Price by Day')
        ax3.set_xlabel('Day')
        ax3.set_ylabel('NSW Price')
        ax3.tick_params(axis='x', rotation=45)

    # === Correlation Heatmap ===
    ax4.cla()
    numeric_cols = chunk.select_dtypes(include=['float64', 'int64']).columns
    if not numeric_cols.empty:
        corr = chunk[numeric_cols].corr()
        sns.heatmap(corr, annot=False, cmap='coolwarm', ax=ax4)
        ax4.set_title('Feature Correlation Heatmap')
    else:
        ax4.set_title('No Numeric Data for Correlation Heatmap')

    fig.suptitle(f"Live Update: Frame {frame+1}/{max_frames} | Rows: {end}", fontsize=16)

# === Animate ===
ani = FuncAnimation(fig, update, frames=max_frames, interval=1000, repeat=False)
display(HTML(ani.to_jshtml()))

# === Drift Log After Animation ===
def print_drift_log():
    print("\n=== Drift Events Detected ===")
    for frame, drift in drift_log:
        print(f"Frame {frame}: {drift}")

# Use this after animation if running in script:
# print_drift_log()

ani = FuncAnimation(fig, update, frames=max_frames, interval=1000, repeat=False)

from IPython.display import display
display(HTML(ani.to_jshtml()))
